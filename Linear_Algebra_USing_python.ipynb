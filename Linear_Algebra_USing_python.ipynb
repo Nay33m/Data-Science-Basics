{
  "nbformat": 4,
  "nbformat_minor": 0,
  "metadata": {
    "colab": {
      "name": "Linear Algebra USing python.ipynb",
      "provenance": []
    },
    "kernelspec": {
      "name": "python3",
      "display_name": "Python 3"
    }
  },
  "cells": [
    {
      "cell_type": "markdown",
      "metadata": {
        "id": "Xpp9OUTppAjn",
        "colab_type": "text"
      },
      "source": [
        "**Linear Algebra for Data Science using python**\n",
        "\n",
        "Task 1: Linear equation\n",
        "\n",
        "In Linear algebra, we will X values and Linear equation to compute X values in order to get Y labels. In ML, We will Have X data and Y label. We make use of this Data and we will try to find Linear equation using ML algorithm. It means we will train data and observe the equation and we will apply that equation on test data and try to get Y label."
      ]
    },
    {
      "cell_type": "code",
      "metadata": {
        "id": "4FsIw7f9qK-r",
        "colab_type": "code",
        "colab": {}
      },
      "source": [
        "#import libraries\n",
        "import pandas as pd\n",
        "import matplotlib.pyplot as plt\n",
        "from pylab import arrow,axis,clf,savefig,plot\n",
        "from numpy import array,pi,cos,sin,dot\n",
        "from numpy.linalg import eig\n"
      ],
      "execution_count": 0,
      "outputs": []
    },
    {
      "cell_type": "code",
      "metadata": {
        "id": "Vjm_LRW9o-hZ",
        "colab_type": "code",
        "colab": {
          "base_uri": "https://localhost:8080/",
          "height": 500
        },
        "outputId": "2f283b0e-9939-47cc-aaf6-d8d69bca20d2"
      },
      "source": [
        "\"#2y=3x-4\"\n",
        "\n",
        "\"# Create a dataframe with an x column containing values from -2 to 8\\n\",\n",
        "df = pd.DataFrame({'x':range(-2,8)})\n",
        "df['y']=3*df['x']-4\n",
        "print (df)\n",
        "plt.scatter(df['x'],df['y'])\n",
        "plt.plot(df['x'],df['y'])\n",
        "#plt.show()\n",
        "x=y=0\n",
        "YI=(3*x-4)/2\n",
        "XI=(2*y+4)/3\n",
        "plt.axvline(x=0)\n",
        "plt.axhline(y=0)\n",
        "plt.annotate('x-intercept',(XI, 0))\n",
        "plt.annotate('y-intercept',(0,YI))\n",
        "def getSlope(x1, y1, x2, y2):\n",
        "    slope = (y2-y1)/(x2-x1)\n",
        "    return slope\n",
        "print (\"\\n\")\n",
        "slope=getSlope(9,23,5,11)\n",
        "print (\"slope(m)=\",slope)"
      ],
      "execution_count": 11,
      "outputs": [
        {
          "output_type": "stream",
          "text": [
            "   x   y\n",
            "0 -2 -10\n",
            "1 -1  -7\n",
            "2  0  -4\n",
            "3  1  -1\n",
            "4  2   2\n",
            "5  3   5\n",
            "6  4   8\n",
            "7  5  11\n",
            "8  6  14\n",
            "9  7  17\n",
            "\n",
            "\n",
            "slope(m)= 3.0\n"
          ],
          "name": "stdout"
        },
        {
          "output_type": "display_data",
          "data": {
            "image/png": "[encoded data removed]",
            "text/plain": [
              "<Figure size 432x288 with 1 Axes>"
            ]
          },
          "metadata": {
            "tags": []
          }
        }
      ]
    },
    {
      "cell_type": "markdown",
      "metadata": {
        "id": "Za1qrhKmqpUz",
        "colab_type": "text"
      },
      "source": [
        "Task 2: Eigen vectors"
      ]
    },
    {
      "cell_type": "code",
      "metadata": {
        "id": "zXzSg8vPqZzZ",
        "colab_type": "code",
        "colab": {
          "base_uri": "https://localhost:8080/",
          "height": 349
        },
        "outputId": "7d66635f-3c0b-4801-aa22-826a76c00fed"
      },
      "source": [
        "theta = pi/9\n",
        "R = array([ [cos(theta), -sin(theta)],  # rotation matrix\n",
        "            [sin(theta), cos(theta)] ])\n",
        "v = array([0,1]) # y axis versor\n",
        "\n",
        "A = array([ [3, -1],  # transformation matrix\n",
        "            [0,  2] ])\n",
        "eival,eivec = eig(A) # eigen values and eigenvectors\n",
        "print (eival)\n",
        "print (eivec)\n",
        "print (\"\\n\")\n",
        "for i in range(18):\n",
        " v = dot(R,v) # theta radiants rotation of v\n",
        " y = dot(A,v) # transformation\n",
        " # current original vector\n",
        " arrow(0,0,v[0],v[1], width=0.01, color='b')\n",
        " # current resulting vector\n",
        " arrow(0,0,y[0],y[1], width=0.01, color='g') \n",
        " # ellipse axis\n",
        " arrow(0,0,eival[0]*eivec[0,0],eival[0]*eivec[1,0], width=0.01, color='y') # major\n",
        " arrow(0,0,eival[1]*eivec[0,1],eival[1]*eivec[1,1], width=0.01, color='y') # minor\n",
        " # 1st eigenvector\n",
        " arrow(0,0,eivec[0,0],eivec[1,0], width=0.01, color='r')\n",
        " # 2nd eigenvector\n",
        " arrow(0,0,eivec[0,1],eivec[1,1], width=0.01, color='r')\n",
        " axis([-3.5,3.5,-3.5,3.5])\n"
      ],
      "execution_count": 12,
      "outputs": [
        {
          "output_type": "stream",
          "text": [
            "[3. 2.]\n",
            "[[1.         0.70710678]\n",
            " [0.         0.70710678]]\n",
            "\n",
            "\n"
          ],
          "name": "stdout"
        },
        {
          "output_type": "display_data",
          "data": {
            "image/png": "[encoded data removed]",
            "text/plain": [
              "<Figure size 432x288 with 1 Axes>"
            ]
          },
          "metadata": {
            "tags": []
          }
        }
      ]
    },
    {
      "cell_type": "markdown",
      "metadata": {
        "id": "00itdNfTq-Ii",
        "colab_type": "text"
      },
      "source": [
        "Task 3: Vectors operations and plotting"
      ]
    },
    {
      "cell_type": "code",
      "metadata": {
        "id": "N-_wK0tTq9Ud",
        "colab_type": "code",
        "colab": {
          "base_uri": "https://localhost:8080/",
          "height": 356
        },
        "outputId": "5a120a89-dddc-459e-de6a-f74da1c618f0"
      },
      "source": [
        "import numpy as np\n",
        "import matplotlib.pyplot as plt\n",
        "import math\n",
        "\n",
        "\"# We'll use a numpy array for our vector\\n\"\n",
        "v = np.array([2,1])\n",
        "\"# Magnitude of the vector\"\n",
        "vmag=np.linalg.norm(v)\n",
        "print (\"magnitude =\",vmag)\n",
        "\"# Calculate the direction\"\n",
        "vTan = v[1] / v[0]\n",
        "print ('tan(radian) = ' + str(vTan))\n",
        "\"# Tan inverse\"\n",
        "vAtan = math.atan(vTan)\n",
        "\"# atan returns the angle in radians, so convert to degrees\\n\"\n",
        "print('degree = ' + str(math.degrees(vAtan)))\n",
        "\n",
        "\"# and we'll use a quiver plot to visualize it.\\n\"\n",
        "print (\"vector v\")\n",
        "origin = [0], [0]\n",
        "plt.axis('equal')\n",
        "plt.grid()\n",
        "plt.ticklabel_format(style='sci', axis='both', scilimits=(0,0))\n",
        "plt.quiver(*origin, *v, scale=10, color='r')\n",
        "plt.show()\n",
        "\n"
      ],
      "execution_count": 13,
      "outputs": [
        {
          "output_type": "stream",
          "text": [
            "magnitude = 2.23606797749979\n",
            "tan(radian) = 0.5\n",
            "degree = 26.56505117707799\n",
            "vector v\n"
          ],
          "name": "stdout"
        },
        {
          "output_type": "display_data",
          "data": {
            "image/png": "[encoded data removed]",
            "text/plain": [
              "<Figure size 432x288 with 1 Axes>"
            ]
          },
          "metadata": {
            "tags": []
          }
        }
      ]
    },
    {
      "cell_type": "code",
      "metadata": {
        "id": "4RR6fqOHro4U",
        "colab_type": "code",
        "colab": {
          "base_uri": "https://localhost:8080/",
          "height": 306
        },
        "outputId": "0c3a3213-9149-41c4-87c0-8cd285c0b97b"
      },
      "source": [
        "\"# Plot two vectors\"\n",
        "\n",
        "s = np.array([-3,2])\n",
        "z = v + s\n",
        "\n",
        "\"# Plot v and s\"\n",
        "\n",
        "print (\"vector v and s\")\n",
        "\n",
        "vecs = np.array([v,s])\n",
        "origin = [0], [0]\n",
        "plt.axis('equal')\n",
        "plt.grid()\n",
        "plt.ticklabel_format(style='sci', axis='both', scilimits=(0,0))\n",
        "plt.quiver(*origin,vecs[:,0],vecs[:,1], color=['r', 'b'], scale=10)\n",
        "plt.show()"
      ],
      "execution_count": 14,
      "outputs": [
        {
          "output_type": "stream",
          "text": [
            "vector v and s\n"
          ],
          "name": "stdout"
        },
        {
          "output_type": "display_data",
          "data": {
            "image/png": "[encoded data removed]",
            "text/plain": [
              "<Figure size 432x288 with 1 Axes>"
            ]
          },
          "metadata": {
            "tags": []
          }
        }
      ]
    },
    {
      "cell_type": "code",
      "metadata": {
        "id": "tdgztTnGrtye",
        "colab_type": "code",
        "colab": {
          "base_uri": "https://localhost:8080/",
          "height": 390
        },
        "outputId": "76ba7620-3003-4766-a477-82438c328013"
      },
      "source": [
        "\"# plot the two vectors along with their addion vector z\"\n",
        "print (\"vector v(red),s(blue),z(black)\")\n",
        "\n",
        "vecs1 = np.array([v,s,z])\n",
        "origin = [0], [0]\n",
        "plt.axis('equal')\n",
        "plt.grid()\n",
        "plt.ticklabel_format(style='sci', axis='both', scilimits=(0,0))\n",
        "plt.quiver(*origin,vecs1[:,0],vecs1[:,1],color=['r','b','k'], scale=10)\n",
        "plt.show()\n",
        "print ('v=',v)\n",
        "print ('s=',s)\n",
        "print ('z=',z)\n",
        "print (\"\\n\")"
      ],
      "execution_count": 15,
      "outputs": [
        {
          "output_type": "stream",
          "text": [
            "vector v(red),s(blue),z(black)\n"
          ],
          "name": "stdout"
        },
        {
          "output_type": "display_data",
          "data": {
            "image/png": "[encoded data removed]",
            "text/plain": [
              "<Figure size 432x288 with 1 Axes>"
            ]
          },
          "metadata": {
            "tags": []
          }
        },
        {
          "output_type": "stream",
          "text": [
            "v= [2 1]\n",
            "s= [-3  2]\n",
            "z= [-1  3]\n",
            "\n",
            "\n"
          ],
          "name": "stdout"
        }
      ]
    },
    {
      "cell_type": "code",
      "metadata": {
        "id": "AbbXLy-or1AQ",
        "colab_type": "code",
        "colab": {
          "base_uri": "https://localhost:8080/",
          "height": 168
        },
        "outputId": "b4325b18-c6a7-404d-f34e-9647dcf46b33"
      },
      "source": [
        "\"# VECTOR MULTIPLICATION\"\n",
        "print (\"\\n\")\n",
        "\"# 1. Scaler multiplication\"\n",
        "Sm= 3*v\n",
        "print (\"3*v =\",Sm)\n",
        "print (\"\\n\")\n",
        "\n",
        "\"# 2. Dot product multiplication\"\n",
        "Dm=np.dot(v,s)\n",
        "print (\"s.v=\",Dm)\n",
        "\"# 3. Cross multiplication\"\n",
        "print (\"\\n\")\n",
        "\n",
        "Cm=np.cross(v,s)\n",
        "print (\"vxs=\",Cm)"
      ],
      "execution_count": 16,
      "outputs": [
        {
          "output_type": "stream",
          "text": [
            "\n",
            "\n",
            "3*v = [6 3]\n",
            "\n",
            "\n",
            "s.v= -4\n",
            "\n",
            "\n",
            "vxs= 7\n"
          ],
          "name": "stdout"
        }
      ]
    }
  ]
}