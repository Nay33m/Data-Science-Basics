{
  "nbformat": 4,
  "nbformat_minor": 0,
  "metadata": {
    "colab": {
      "name": "Data Cleaning with Pandas Tutorial.ipynb",
      "provenance": [],
      "collapsed_sections": []
    },
    "kernelspec": {
      "display_name": "Python 3",
      "language": "python",
      "name": "python3"
    }
  },
  "cells": [
    {
      "cell_type": "markdown",
      "metadata": {
        "id": "UNe-4gGI-Qvx",
        "colab_type": "text"
      },
      "source": [
        "# Data Cleaning with Pandas Tutorial"
      ]
    },
    {
      "cell_type": "markdown",
      "metadata": {
        "id": "DXfs53esZMbM",
        "colab_type": "text"
      },
      "source": [
        "To edit this notebook:\n",
        "- Save the notebook by selecting `Download .ipynb` from the `File` tab\n",
        "- Go to [Colaboratory](https://colab.research.google.com/) and upload the notebook from the `File` tab\n",
        "- Alternatively, you can import the notebook to your Google Drive and select `Open with` when you right-click. Select `Colaboratory` or `+ Connect more apps` to install Colaboratory first"
      ]
    },
    {
      "cell_type": "markdown",
      "metadata": {
        "id": "KAUwvBmpDcHY",
        "colab_type": "text"
      },
      "source": [
        "## Install the Database Module\n",
        "\n",
        "The code below installs a postgres database module to allow our notebook to connect to the Strata Scratch database\n",
        "\n"
      ]
    },
    {
      "cell_type": "code",
      "metadata": {
        "id": "SKM7C2lK-fi4",
        "colab_type": "code",
        "colab": {
          "base_uri": "https://localhost:8080/",
          "height": 34
        },
        "outputId": "26ec8d79-b21c-4112-9b2e-8e8b8f10ad1d"
      },
      "source": [
        "!pip install psycopg2"
      ],
      "execution_count": 1,
      "outputs": [
        {
          "output_type": "stream",
          "text": [
            "Requirement already satisfied: psycopg2 in /usr/local/lib/python3.6/dist-packages (2.7.6.1)\n"
          ],
          "name": "stdout"
        }
      ]
    },
    {
      "cell_type": "markdown",
      "metadata": {
        "id": "nTtFkSnYDum4",
        "colab_type": "text"
      },
      "source": [
        "## Import Required Modules\n",
        "\n",
        "Import a few required modules that enables us to query data and perform analytics"
      ]
    },
    {
      "cell_type": "code",
      "metadata": {
        "id": "COEtgHk6kzu8",
        "colab_type": "code",
        "colab": {
          "base_uri": "https://localhost:8080/",
          "height": 70
        },
        "outputId": "3224cffd-9668-4e56-b148-c02d01db7db7"
      },
      "source": [
        "import numpy as np\n",
        "import pandas as pd\n",
        "import psycopg2 as ps"
      ],
      "execution_count": 2,
      "outputs": [
        {
          "output_type": "stream",
          "text": [
            "/usr/local/lib/python3.6/dist-packages/psycopg2/__init__.py:144: UserWarning: The psycopg2 wheel package will be renamed from release 2.8; in order to keep installing from binary please use \"pip install psycopg2-binary\" instead. For details see: <http://initd.org/psycopg/docs/install.html#binary-install-from-pypi>.\n",
            "  \"\"\")\n"
          ],
          "name": "stderr"
        }
      ]
    },
    {
      "cell_type": "markdown",
      "metadata": {
        "id": "VhQxH5ilENeK",
        "colab_type": "text"
      },
      "source": [
        "## Connect to Strata Scratch\n",
        "\n",
        "Make sure to enter your username and database password. Your database password is not the same as your login password. You can find your database password in the Profile tab once logged into Strata Scratch. "
      ]
    },
    {
      "cell_type": "code",
      "metadata": {
        "id": "RAq6KStKk0Lj",
        "colab_type": "code",
        "outputId": "2bfa1283-8049-489b-8208-fb30148c356f",
        "colab": {
          "base_uri": "https://localhost:8080/",
          "height": 370
        }
      },
      "source": [
        "host_name = 'db-strata.stratascratch.com'\n",
        "dbname = 'db_strata'\n",
        "port = '5432'\n",
        "user_name = '' #enter username\n",
        "pwd = '' #enter your database password found in the profile tab in Strata Scratch\n",
        "\n",
        "try:\n",
        "    conn = ps.connect(host=host_name,database=dbname,user=user_name,password=pwd,port=port)\n",
        "except ps.OperationalError as e:\n",
        "    raise e\n",
        "else:\n",
        "    print('Connected!')"
      ],
      "execution_count": 3,
      "outputs": [
        {
          "output_type": "error",
          "ename": "OperationalError",
          "evalue": "ignored",
          "traceback": [
            "\u001b[0;31m---------------------------------------------------------------------------\u001b[0m",
            "\u001b[0;31mOperationalError\u001b[0m                          Traceback (most recent call last)",
            "\u001b[0;32m<ipython-input-3-2a2be5c6e876>\u001b[0m in \u001b[0;36m<module>\u001b[0;34m()\u001b[0m\n\u001b[1;32m      8\u001b[0m     \u001b[0mconn\u001b[0m \u001b[0;34m=\u001b[0m \u001b[0mps\u001b[0m\u001b[0;34m.\u001b[0m\u001b[0mconnect\u001b[0m\u001b[0;34m(\u001b[0m\u001b[0mhost\u001b[0m\u001b[0;34m=\u001b[0m\u001b[0mhost_name\u001b[0m\u001b[0;34m,\u001b[0m\u001b[0mdatabase\u001b[0m\u001b[0;34m=\u001b[0m\u001b[0mdbname\u001b[0m\u001b[0;34m,\u001b[0m\u001b[0muser\u001b[0m\u001b[0;34m=\u001b[0m\u001b[0muser_name\u001b[0m\u001b[0;34m,\u001b[0m\u001b[0mpassword\u001b[0m\u001b[0;34m=\u001b[0m\u001b[0mpwd\u001b[0m\u001b[0;34m,\u001b[0m\u001b[0mport\u001b[0m\u001b[0;34m=\u001b[0m\u001b[0mport\u001b[0m\u001b[0;34m)\u001b[0m\u001b[0;34m\u001b[0m\u001b[0;34m\u001b[0m\u001b[0m\n\u001b[1;32m      9\u001b[0m \u001b[0;32mexcept\u001b[0m \u001b[0mps\u001b[0m\u001b[0;34m.\u001b[0m\u001b[0mOperationalError\u001b[0m \u001b[0;32mas\u001b[0m \u001b[0me\u001b[0m\u001b[0;34m:\u001b[0m\u001b[0;34m\u001b[0m\u001b[0;34m\u001b[0m\u001b[0m\n\u001b[0;32m---> 10\u001b[0;31m     \u001b[0;32mraise\u001b[0m \u001b[0me\u001b[0m\u001b[0;34m\u001b[0m\u001b[0;34m\u001b[0m\u001b[0m\n\u001b[0m\u001b[1;32m     11\u001b[0m \u001b[0;32melse\u001b[0m\u001b[0;34m:\u001b[0m\u001b[0;34m\u001b[0m\u001b[0;34m\u001b[0m\u001b[0m\n\u001b[1;32m     12\u001b[0m     \u001b[0mprint\u001b[0m\u001b[0;34m(\u001b[0m\u001b[0;34m'Connected!'\u001b[0m\u001b[0;34m)\u001b[0m\u001b[0;34m\u001b[0m\u001b[0;34m\u001b[0m\u001b[0m\n",
            "\u001b[0;32m<ipython-input-3-2a2be5c6e876>\u001b[0m in \u001b[0;36m<module>\u001b[0;34m()\u001b[0m\n\u001b[1;32m      6\u001b[0m \u001b[0;34m\u001b[0m\u001b[0m\n\u001b[1;32m      7\u001b[0m \u001b[0;32mtry\u001b[0m\u001b[0;34m:\u001b[0m\u001b[0;34m\u001b[0m\u001b[0;34m\u001b[0m\u001b[0m\n\u001b[0;32m----> 8\u001b[0;31m     \u001b[0mconn\u001b[0m \u001b[0;34m=\u001b[0m \u001b[0mps\u001b[0m\u001b[0;34m.\u001b[0m\u001b[0mconnect\u001b[0m\u001b[0;34m(\u001b[0m\u001b[0mhost\u001b[0m\u001b[0;34m=\u001b[0m\u001b[0mhost_name\u001b[0m\u001b[0;34m,\u001b[0m\u001b[0mdatabase\u001b[0m\u001b[0;34m=\u001b[0m\u001b[0mdbname\u001b[0m\u001b[0;34m,\u001b[0m\u001b[0muser\u001b[0m\u001b[0;34m=\u001b[0m\u001b[0muser_name\u001b[0m\u001b[0;34m,\u001b[0m\u001b[0mpassword\u001b[0m\u001b[0;34m=\u001b[0m\u001b[0mpwd\u001b[0m\u001b[0;34m,\u001b[0m\u001b[0mport\u001b[0m\u001b[0;34m=\u001b[0m\u001b[0mport\u001b[0m\u001b[0;34m)\u001b[0m\u001b[0;34m\u001b[0m\u001b[0;34m\u001b[0m\u001b[0m\n\u001b[0m\u001b[1;32m      9\u001b[0m \u001b[0;32mexcept\u001b[0m \u001b[0mps\u001b[0m\u001b[0;34m.\u001b[0m\u001b[0mOperationalError\u001b[0m \u001b[0;32mas\u001b[0m \u001b[0me\u001b[0m\u001b[0;34m:\u001b[0m\u001b[0;34m\u001b[0m\u001b[0;34m\u001b[0m\u001b[0m\n\u001b[1;32m     10\u001b[0m     \u001b[0;32mraise\u001b[0m \u001b[0me\u001b[0m\u001b[0;34m\u001b[0m\u001b[0;34m\u001b[0m\u001b[0m\n",
            "\u001b[0;32m/usr/local/lib/python3.6/dist-packages/psycopg2/__init__.py\u001b[0m in \u001b[0;36mconnect\u001b[0;34m(dsn, connection_factory, cursor_factory, **kwargs)\u001b[0m\n\u001b[1;32m    128\u001b[0m \u001b[0;34m\u001b[0m\u001b[0m\n\u001b[1;32m    129\u001b[0m     \u001b[0mdsn\u001b[0m \u001b[0;34m=\u001b[0m \u001b[0m_ext\u001b[0m\u001b[0;34m.\u001b[0m\u001b[0mmake_dsn\u001b[0m\u001b[0;34m(\u001b[0m\u001b[0mdsn\u001b[0m\u001b[0;34m,\u001b[0m \u001b[0;34m**\u001b[0m\u001b[0mkwargs\u001b[0m\u001b[0;34m)\u001b[0m\u001b[0;34m\u001b[0m\u001b[0;34m\u001b[0m\u001b[0m\n\u001b[0;32m--> 130\u001b[0;31m     \u001b[0mconn\u001b[0m \u001b[0;34m=\u001b[0m \u001b[0m_connect\u001b[0m\u001b[0;34m(\u001b[0m\u001b[0mdsn\u001b[0m\u001b[0;34m,\u001b[0m \u001b[0mconnection_factory\u001b[0m\u001b[0;34m=\u001b[0m\u001b[0mconnection_factory\u001b[0m\u001b[0;34m,\u001b[0m \u001b[0;34m**\u001b[0m\u001b[0mkwasync\u001b[0m\u001b[0;34m)\u001b[0m\u001b[0;34m\u001b[0m\u001b[0;34m\u001b[0m\u001b[0m\n\u001b[0m\u001b[1;32m    131\u001b[0m     \u001b[0;32mif\u001b[0m \u001b[0mcursor_factory\u001b[0m \u001b[0;32mis\u001b[0m \u001b[0;32mnot\u001b[0m \u001b[0;32mNone\u001b[0m\u001b[0;34m:\u001b[0m\u001b[0;34m\u001b[0m\u001b[0;34m\u001b[0m\u001b[0m\n\u001b[1;32m    132\u001b[0m         \u001b[0mconn\u001b[0m\u001b[0;34m.\u001b[0m\u001b[0mcursor_factory\u001b[0m \u001b[0;34m=\u001b[0m \u001b[0mcursor_factory\u001b[0m\u001b[0;34m\u001b[0m\u001b[0;34m\u001b[0m\u001b[0m\n",
            "\u001b[0;31mOperationalError\u001b[0m: fe_sendauth: no password supplied\n"
          ]
        }
      ]
    },
    {
      "cell_type": "markdown",
      "metadata": {
        "id": "-KeXw0cgFWKS",
        "colab_type": "text"
      },
      "source": [
        "## Pull Data From Strata Scratch"
      ]
    },
    {
      "cell_type": "markdown",
      "metadata": {
        "id": "--Vp64-TFmpl",
        "colab_type": "text"
      },
      "source": [
        "#### Enter SQL code below to pull the dataset you're interested in\n",
        "\n",
        "If you get an error, it likely means that the connection timed out. Try connecting to Strata Scratch again before executing the code below.\n",
        "\n",
        "A list of datasets is found in SQL LAB in Strata Scratch."
      ]
    },
    {
      "cell_type": "code",
      "metadata": {
        "id": "n9gIvVNUESyf",
        "colab_type": "code",
        "colab": {}
      },
      "source": [
        "#Write SQL below to pull datasets \n",
        "cur = conn.cursor()\n",
        "cur.execute(\"\"\" \n",
        "            SELECT *  FROM nfl_combine; \n",
        "            \"\"\")\n",
        "data = cur.fetchall()\n",
        "colnames = [desc[0] for desc in cur.description] \n",
        "conn.commit()\n",
        "\n",
        "#create the pandas dataframe\n",
        "data = pd.DataFrame(data)\n",
        "data.columns = colnames\n",
        "\n",
        "#close the connection\n",
        "cur.close()"
      ],
      "execution_count": 0,
      "outputs": []
    },
    {
      "cell_type": "markdown",
      "metadata": {
        "id": "vGAkYc58GN1G",
        "colab_type": "text"
      },
      "source": [
        "## Check To See If Your Pulled The Dataset\n",
        "\n",
        "Your dataset should be in a pandas dataframe named `data`"
      ]
    },
    {
      "cell_type": "code",
      "metadata": {
        "id": "ahZcg-eKFLzE",
        "colab_type": "code",
        "colab": {}
      },
      "source": [
        "data.head()"
      ],
      "execution_count": 0,
      "outputs": []
    },
    {
      "cell_type": "markdown",
      "metadata": {
        "id": "nzPuTQdPeK8H",
        "colab_type": "text"
      },
      "source": [
        "# Data Cleaning Using Pandas"
      ]
    },
    {
      "cell_type": "markdown",
      "metadata": {
        "id": "jx0xy3c7CXAe",
        "colab_type": "text"
      },
      "source": [
        "## Understanding your data types"
      ]
    },
    {
      "cell_type": "markdown",
      "metadata": {
        "id": "exAxMe1OCXAf",
        "colab_type": "text"
      },
      "source": [
        "To see what data types our columns have we can use the `pd.DataFrame.dtypes` property."
      ]
    },
    {
      "cell_type": "code",
      "metadata": {
        "id": "aY67-AiBCXAh",
        "colab_type": "code",
        "colab": {}
      },
      "source": [
        "data.dtypes"
      ],
      "execution_count": 0,
      "outputs": []
    },
    {
      "cell_type": "markdown",
      "metadata": {
        "id": "vYNr6Q1JCXAm",
        "colab_type": "text"
      },
      "source": [
        "We see 3 different types which are present in this dataset (and which are most common everywhere)\n",
        "- int64 which is a integer number with a sign (can be positive or negative) - In SQL corresponds to INTEGER\n",
        "- float64 which is a real number - In SQL corresponds to NUMERIC\n",
        "- object which can be anything but is usually a string - In SQL corresponds to TEXT\n",
        "\n",
        "One **very important** thing to know is how pandas represents columns with missing values. \n",
        "- If all present values in a column are numbers (integer or real doesn't matter) then it treats that column as `float64`\n",
        "- If at least one is non-numeric it treats the column as type `object`."
      ]
    },
    {
      "cell_type": "markdown",
      "metadata": {
        "id": "QZ3UQ-7BCXAn",
        "colab_type": "text"
      },
      "source": [
        "When downloading from database like we do in this course pandas will **almost** always honor the types in the database. Notice the bolded almost because there are times when we must manually change the types for various reasons. "
      ]
    },
    {
      "cell_type": "markdown",
      "metadata": {
        "id": "SGtyvh1iCXAp",
        "colab_type": "text"
      },
      "source": [
        "## Type conversions in Pandas\n",
        "\n",
        "We will use the method `astype`.\n",
        "\n",
        "Syntax is: `data[column_name] = data[column_name].astype(new_type)`\n",
        "\n",
        "Types in pandas come from numpy so `new_type` looks like:\n",
        "- np.int64\n",
        "- np.float64\n",
        "- np.object\n",
        "\n",
        "You can convert only between compatible types if there are **no missing values** and the values are convertible.\n",
        "\n",
        "For example: you can conver 42 to a real number and you can convert \"123.45\" to a real number but you can't convert \"hello\" to any number.\n",
        "\n",
        "Generally everything can be converted to object though you will rarely need to do that and usually you go the other way around."
      ]
    },
    {
      "cell_type": "code",
      "metadata": {
        "id": "qDU61tvoCXAp",
        "colab_type": "code",
        "colab": {}
      },
      "source": [
        "data[\"heightinches\"].astype(np.int32).head()"
      ],
      "execution_count": 0,
      "outputs": []
    },
    {
      "cell_type": "code",
      "metadata": {
        "id": "8UdWrYUWCXAu",
        "colab_type": "code",
        "colab": {}
      },
      "source": [
        "data[\"heightinches\"].astype(np.object).head()"
      ],
      "execution_count": 0,
      "outputs": []
    },
    {
      "cell_type": "markdown",
      "metadata": {
        "id": "NWYFIqG7CXA4",
        "colab_type": "text"
      },
      "source": [
        "## Cleaning strings\n",
        "\n",
        "Strings are very often typed into your computer by people and the data you get is full of typos and weird formats. You will learn about regular expressions which are an effective tool to fix many of these problems and you will see how to convert strings to numbers and dates."
      ]
    },
    {
      "cell_type": "markdown",
      "metadata": {
        "id": "KLkKSXnhCXA6",
        "colab_type": "text"
      },
      "source": [
        "### Regular expressions"
      ]
    },
    {
      "cell_type": "markdown",
      "metadata": {
        "id": "nc8l84J1CXA7",
        "colab_type": "text"
      },
      "source": [
        "Regular expressions or regexp as they are often called are special strings which can either filter lists of strings or transform strings with a bit of help from other code.\n",
        "\n",
        "In python all functionality related to regexp lives in the `re` module which we will now import.\n",
        "\n",
        "- https://docs.python.org/3.7/library/re.html"
      ]
    },
    {
      "cell_type": "code",
      "metadata": {
        "id": "T4CXeQOxCXA9",
        "colab_type": "code",
        "colab": {}
      },
      "source": [
        "import re"
      ],
      "execution_count": 0,
      "outputs": []
    },
    {
      "cell_type": "markdown",
      "metadata": {
        "id": "p4nVHrQJCXBB",
        "colab_type": "text"
      },
      "source": [
        "Before we can use regexp we must learn of their special structure.\n",
        "\n",
        "Let's start with the simplest possible example."
      ]
    },
    {
      "cell_type": "code",
      "metadata": {
        "id": "zgs5irIkCXBC",
        "colab_type": "code",
        "colab": {}
      },
      "source": [
        "re.match(pattern=\"abc\", string=\"abcdef\")"
      ],
      "execution_count": 0,
      "outputs": []
    },
    {
      "cell_type": "markdown",
      "metadata": {
        "id": "TnMKMgLnCXBH",
        "colab_type": "text"
      },
      "source": [
        "`re.match` finds matches of our regular expression (`pattern` paramater) and a string of interest (`string` parameter)\n",
        "\n",
        "The results are two values:\n",
        "- span which tells us where the match starts and where it ends\n",
        "- match which is what was matched\n",
        "\n",
        "Here we used the simplest regexp, a sequence of characters. "
      ]
    },
    {
      "cell_type": "markdown",
      "metadata": {
        "id": "SZEESp5sCXBJ",
        "colab_type": "text"
      },
      "source": [
        "#### Regex Choice\n",
        "\n",
        "The power of regex comes from choice, repetition and capture groups.\n",
        "\n",
        "To combine two sequences into a choice we use the pipe (|).\n",
        "\n",
        "The following code will match both Trick and Treat.\n",
        "\n",
        "Notice that we had to put both in parentheses in the regexp pattern because if we didn't we would implicitly get:\n",
        "- Tric(k|T)reat \n",
        "\n",
        "We also use a new method called `re.findall`. It has the same parameters as match except that it finds all matches while `match` finds only the first one.\n",
        "\n",
        "The brackets in the output will be explained along capture groups."
      ]
    },
    {
      "cell_type": "code",
      "metadata": {
        "id": "avXCfgVMCXBK",
        "colab_type": "code",
        "colab": {}
      },
      "source": [
        "re.findall(pattern=\"(Trick)|(Treat)\", string=\"Trick or Treat\")"
      ],
      "execution_count": 0,
      "outputs": []
    },
    {
      "cell_type": "markdown",
      "metadata": {
        "id": "l0MvTVVzCXBT",
        "colab_type": "text"
      },
      "source": [
        "#### Regex repetition\n",
        "\n",
        "For example take the string:\n",
        "- aaaabbbb\n",
        "\n",
        "It is 4 'a' followed by 4 'b'\n",
        "\n",
        "We can match it by writing the whole string as the pattern but let's generalize.\n",
        "\n",
        "We want to match _n_ times a and _n_ times b.\n",
        "\n",
        "The pattern for this case is:\n",
        "- a{4}b{4}\n",
        "- Generally a{n}b{n}"
      ]
    },
    {
      "cell_type": "code",
      "metadata": {
        "id": "xIZm53AaCXBV",
        "colab_type": "code",
        "colab": {}
      },
      "source": [
        "re.match(pattern=\"a{4}b{4}\", string=\"aaaabbbb\")"
      ],
      "execution_count": 0,
      "outputs": []
    },
    {
      "cell_type": "markdown",
      "metadata": {
        "id": "L5i-N05KCXBd",
        "colab_type": "text"
      },
      "source": [
        "#### Unbounded repetition\n",
        "\n",
        "Sometimes we want to have an unlimited amount of some character (or a sequence of characters).\n",
        "\n",
        "To do that we use the `*` operation.\n",
        "\n",
        "`a* = a|(aa)|(aaa)|(aaaa)|...`\n",
        "\n",
        "There is also the `+` operation which is unbounded but requires at least one occurence while `*` requires 0 occurences.\n",
        "\n",
        "We can rewrite our example from above to use `*` and notice how we now have a higher number of a but it still matches."
      ]
    },
    {
      "cell_type": "code",
      "metadata": {
        "id": "AREdMOQYCXBe",
        "colab_type": "code",
        "colab": {}
      },
      "source": [
        "re.match(pattern=\"a*b{4}\", string=\"aaaaaaaaaaabbbb\")"
      ],
      "execution_count": 0,
      "outputs": []
    },
    {
      "cell_type": "markdown",
      "metadata": {
        "id": "P5g8nlQkCXBl",
        "colab_type": "text"
      },
      "source": [
        "#### Capture groups\n",
        "\n",
        "When you surround some characters with brackets you define a capture group which you can later get via `match_result.group(idx)`."
      ]
    },
    {
      "cell_type": "markdown",
      "metadata": {
        "id": "ozlsUa-kCXBm",
        "colab_type": "text"
      },
      "source": [
        "### Parsing with RegExp"
      ]
    },
    {
      "cell_type": "markdown",
      "metadata": {
        "id": "NAYS1YoeCXBo",
        "colab_type": "text"
      },
      "source": [
        "This was a lot of theory but luckily we now get to real examples where this stuff should get clearer.\n",
        "\n",
        "#### Special symbols\n",
        "\n",
        "You can use so called special symbols to save some typing. There are a lot of them but we will only show the most important ones here:\n",
        "- \\d is any number and is equivalent to 0|1|2|3|4|5|6|7|8|9\n",
        "- \\w is any letter\n",
        "- \\s is any space\n",
        "- .  is any character except new line"
      ]
    },
    {
      "cell_type": "markdown",
      "metadata": {
        "id": "7lsc6lSCCXBp",
        "colab_type": "text"
      },
      "source": [
        "#### Example 1\n",
        "\n",
        "Extract the components of a telephone number.\n",
        "\n",
        "Telephone numbers are in format XXX-XXX-XXX where X is some number.\n",
        "\n",
        "The pattern we use is (\\d{3})-(\\d{3})-(\\d{3}) which means number 3 times followed by a dash folowed by number 3 times followed by dash and followed by number 3 times.\n",
        "\n",
        "Capture groups are here to get parts of the number."
      ]
    },
    {
      "cell_type": "code",
      "metadata": {
        "id": "31up6isKCXBq",
        "colab_type": "code",
        "colab": {}
      },
      "source": [
        "re.findall(pattern=\"(\\d{3})-(\\d{3})-(\\d{3})\", string=\"123-456-789\")"
      ],
      "execution_count": 0,
      "outputs": []
    },
    {
      "cell_type": "code",
      "metadata": {
        "id": "nB6Mjpa8CXBt",
        "colab_type": "code",
        "colab": {}
      },
      "source": [
        "parts = re.findall(pattern=\"(\\d{3})-(\\d{3})-(\\d{3})\", string=\"123-456-789\")[0]\n",
        "\n",
        "parts[0]"
      ],
      "execution_count": 0,
      "outputs": []
    },
    {
      "cell_type": "markdown",
      "metadata": {
        "id": "Zsmr-H-2CXBy",
        "colab_type": "text"
      },
      "source": [
        "#### Example 2\n",
        "\n",
        "Suppose we are constrained that the first 3 numbers must be one of 444, 666, 999.\n",
        "- (9{3})|(6{3})|(4{3}) is the addition to satisfy this requirement\n",
        "\n",
        "Notice that we now have more capture groups so you can see empty values in the output."
      ]
    },
    {
      "cell_type": "code",
      "metadata": {
        "id": "XG3_0fY2CXBz",
        "colab_type": "code",
        "colab": {}
      },
      "source": [
        "re.findall(pattern=\"((9{3})|(6{3})|(4{3}))-(\\d{3})-(\\d{3})\", string=\"123-456-789\")"
      ],
      "execution_count": 0,
      "outputs": []
    },
    {
      "cell_type": "code",
      "metadata": {
        "id": "DZxUoc4rCXB4",
        "colab_type": "code",
        "colab": {}
      },
      "source": [
        "re.findall(pattern=\"((9{3})|(6{3})|(4{3}))-(\\d{3})-(\\d{3})\", string=\"444-456-789\")"
      ],
      "execution_count": 0,
      "outputs": []
    },
    {
      "cell_type": "markdown",
      "metadata": {
        "id": "Ulg0doCQCXB9",
        "colab_type": "text"
      },
      "source": [
        "#### Example 3\n",
        "\n",
        "Find all players whose colleges have names equal to any 3 uppercase letters. For sake of example let's assume all other colleges are noise in our data.\n",
        "\n",
        "When you hear the word any the dot (.) must always come to mind but when you read a bit more you see they want only uppercase letters. \n",
        "\n",
        "So you start to write (A|B|C...){3} but stop because there is a quicker way to do this.\n",
        "[A-Z] is equal to (A|B|C|...|Z) and it also works for numbers [0-9] = 0|1|2|...|9\n",
        "\n",
        "So the pattern is ([A-Z]{3}).\n",
        "\n",
        "We use the `apply` function which is explained later but the idea is to build a new boolean numpy array with which to index the dataframe.\n",
        "\n",
        "The parts important for this section are:\n",
        "- re.fullmatch which passess as a match only if the whole string matches, not parts of it.\n",
        "- is not None test. When there is no match `re.match` and `re.fullmatch` return None."
      ]
    },
    {
      "cell_type": "code",
      "metadata": {
        "id": "0BIfO2sjCXB-",
        "colab_type": "code",
        "colab": {}
      },
      "source": [
        "boolean_index_3letter_colleges = data[\"college\"].apply(lambda c: \n",
        "                                                       re.fullmatch(pattern=\"[A-Z]{3}\", \n",
        "                                                                    string=str(c))\n",
        "                                                       is not None)\n",
        "\n",
        "data[boolean_index_3letter_colleges]"
      ],
      "execution_count": 0,
      "outputs": []
    },
    {
      "cell_type": "markdown",
      "metadata": {
        "id": "1zbfzJGYCXCE",
        "colab_type": "text"
      },
      "source": [
        "#### Example 4\n",
        "\n",
        "Find all people who have initials as their first name.\n",
        "\n",
        "The wanted names look like:\n",
        "- B.J.\n",
        "- J.J.\n",
        "- J.R.\n",
        "- etc\n",
        "\n",
        "You can match for dots using regex but because the dot is a special character you must \"escape\" it. Escaping means putting \\ before the dot (that is \\. is the escaped dot).\n",
        "\n",
        "The pattern is a sequence of:\n",
        "- [A-Z] (any uppercase letter)\n",
        "- \\. (escaped dot) [unescaped dot means match any character]\n",
        "- [A-Z] (again any uppercase letter)\n",
        "- \\. another dot"
      ]
    },
    {
      "cell_type": "code",
      "metadata": {
        "id": "ddhNWlvbCXCG",
        "colab_type": "code",
        "colab": {}
      },
      "source": [
        "boolean_index_initials = data[\"firstname\"].apply(lambda c: \n",
        "                                                       re.fullmatch(pattern=\"[A-Z]\\.[A-Z]\\.\", \n",
        "                                                                    string=str(c))\n",
        "                                                       is not None)\n",
        "\n",
        "data[boolean_index_initials]"
      ],
      "execution_count": 0,
      "outputs": []
    },
    {
      "cell_type": "markdown",
      "metadata": {
        "id": "1FIuphrQCXCN",
        "colab_type": "text"
      },
      "source": [
        "### Strings to numbers"
      ]
    },
    {
      "cell_type": "markdown",
      "metadata": {
        "id": "ymalliIMCXCO",
        "colab_type": "text"
      },
      "source": [
        "You can convert a string to integer using the `int` function."
      ]
    },
    {
      "cell_type": "code",
      "metadata": {
        "id": "g-Ho2kh1CXCS",
        "colab_type": "code",
        "colab": {}
      },
      "source": [
        "int(\"123\")"
      ],
      "execution_count": 0,
      "outputs": []
    },
    {
      "cell_type": "markdown",
      "metadata": {
        "id": "4hacfhcTCXCY",
        "colab_type": "text"
      },
      "source": [
        "You can convert a string to integer using the `float` function."
      ]
    },
    {
      "cell_type": "code",
      "metadata": {
        "id": "LClXMyGfCXCa",
        "colab_type": "code",
        "colab": {}
      },
      "source": [
        "float(\"123\")"
      ],
      "execution_count": 0,
      "outputs": []
    },
    {
      "cell_type": "markdown",
      "metadata": {
        "id": "O0DGtddICXCg",
        "colab_type": "text"
      },
      "source": [
        "Performing casts using `astype` can also transform strings to numbers."
      ]
    },
    {
      "cell_type": "code",
      "metadata": {
        "id": "yO4RWrXpCXCh",
        "colab_type": "code",
        "colab": {}
      },
      "source": [
        "np.array([\"123\", \"123\", \"123\"]).astype(np.float64)"
      ],
      "execution_count": 0,
      "outputs": []
    },
    {
      "cell_type": "markdown",
      "metadata": {
        "id": "98NTeomYCXCm",
        "colab_type": "text"
      },
      "source": [
        "#### Extracting numbers from strings - Measurements\n",
        "\n",
        "Lets say you have a string like \"13ft\" or \"pills=15\" or even more complex like \"15 pills, 15 injections\".\n",
        "\n",
        "The easiest way to extract these numbers is using regular expressions.\n",
        "\n",
        "Let's start with the simplest one \"13ft\". The pattern is any number repeated as much as needed. This is easy because we can use the `span` function."
      ]
    },
    {
      "cell_type": "code",
      "metadata": {
        "id": "bP-T5oYUCXCn",
        "colab_type": "code",
        "colab": {}
      },
      "source": [
        "measurement = \"13ft\"\n",
        "\n",
        "span = re.match(pattern=\"\\d*\", string=measurement).span()\n",
        "\n",
        "print(span)\n",
        "\n",
        "measurement[span[0]:span[1]]"
      ],
      "execution_count": 0,
      "outputs": []
    },
    {
      "cell_type": "markdown",
      "metadata": {
        "id": "zFxhEaunCXCr",
        "colab_type": "text"
      },
      "source": [
        "pills=15\n",
        "\n",
        "Here we use findall which returned us with a single number the number of pills."
      ]
    },
    {
      "cell_type": "code",
      "metadata": {
        "id": "KiVO0YqCCXCr",
        "colab_type": "code",
        "colab": {}
      },
      "source": [
        "measurement = \"pills = 15\"\n",
        "\n",
        "match = re.findall(pattern=\"pills = (\\d+)\", string=measurement)[0]\n",
        "\n",
        "match"
      ],
      "execution_count": 0,
      "outputs": []
    },
    {
      "cell_type": "markdown",
      "metadata": {
        "id": "I9GgI1C-CXCv",
        "colab_type": "text"
      },
      "source": [
        "\"15 pills, 15 injections\"\n",
        "\n",
        "Again we will use findall but notice our pattern: \\d`*` and that's it.\n",
        "\n",
        "Regex can be as easy and as complex as you make so give yourself time to think about what happens when you write your own regexes."
      ]
    },
    {
      "cell_type": "code",
      "metadata": {
        "id": "Ik7oK0X3CXCw",
        "colab_type": "code",
        "colab": {}
      },
      "source": [
        "measurement = \"15 pills, 15 injections\"\n",
        "\n",
        "match = re.findall(pattern=\"\\d+\", string=measurement)\n",
        "\n",
        "match"
      ],
      "execution_count": 0,
      "outputs": []
    },
    {
      "cell_type": "markdown",
      "metadata": {
        "id": "lD6VvgytCXC2",
        "colab_type": "text"
      },
      "source": [
        "Our regex above has a problem and that is we don't know what number corresponds to what measurement type.\n",
        "\n",
        "We can fix it by extending our regex and using capture groups.\n",
        "\n",
        "So what's [^,] all about?\n",
        "\n",
        "Remember when we said [A-Z] are all uppercase letters. When you put ^ after the opening bracket the meaning changes to everything but the letters in brackets (e.g. [^A-Z] is everything except upper case letters, [^,] everything except a comma)"
      ]
    },
    {
      "cell_type": "code",
      "metadata": {
        "id": "K0q_Sj0dCXC3",
        "colab_type": "code",
        "colab": {}
      },
      "source": [
        "measurement = \"15 pills, 15 injections\"\n",
        "\n",
        "matches = re.findall(pattern=\"(\\d+) ([^,]+)\", string=measurement)\n",
        "\n",
        "matches"
      ],
      "execution_count": 0,
      "outputs": []
    },
    {
      "cell_type": "markdown",
      "metadata": {
        "id": "gj4ID4zSCXC8",
        "colab_type": "text"
      },
      "source": [
        "Generally using findall is better than match for this type of tasks."
      ]
    },
    {
      "cell_type": "markdown",
      "metadata": {
        "id": "25IjGN1SCXDC",
        "colab_type": "text"
      },
      "source": [
        "## Filll missing values"
      ]
    },
    {
      "cell_type": "markdown",
      "metadata": {
        "id": "XiCMGLdJ-QwC",
        "colab_type": "text"
      },
      "source": [
        "#### Fill missing values for college with 'No College'\n",
        "\n",
        "- https://pandas.pydata.org/pandas-docs/stable/generated/pandas.DataFrame.fillna.html\n",
        "\n",
        "`fillna` method when given a single value like in this example fills all missing values in the dataframe with that value. \n",
        "\n",
        "When given a dictionary to the value parameter it replaces according to that dictionary.\n",
        "\n",
        "`inplace=True` holds the same implications as in `sort_values`. "
      ]
    },
    {
      "cell_type": "code",
      "metadata": {
        "id": "iyks-_Ao-QwD",
        "colab_type": "code",
        "colab": {}
      },
      "source": [
        "data.fillna(value='No College', inplace=True)"
      ],
      "execution_count": 0,
      "outputs": []
    },
    {
      "cell_type": "markdown",
      "metadata": {
        "id": "jrekcNH--QwG",
        "colab_type": "text"
      },
      "source": [
        "## Dropping rows on missing values\n",
        "\n",
        "### Remove players that have null values for the pick\n",
        "\n",
        "- https://pandas.pydata.org/pandas-docs/stable/generated/pandas.DataFrame.dropna.html\n",
        "\n",
        "Dropna will drop rows according to some null value criteria.\n",
        "\n",
        "That criteria is defined via the `subset` parameter which is a list of columns.\n",
        "- `how=\"any\"` means delete row if at least one value is null.\n",
        "- `how=\"all\"` means delete row if all values are null.\n",
        "\n",
        "`inplace=True` holds the same implications as in `sort_values`."
      ]
    },
    {
      "cell_type": "code",
      "metadata": {
        "id": "1PSltwv4-QwH",
        "colab_type": "code",
        "colab": {}
      },
      "source": [
        "data.dropna(how='any', subset=['pick'], inplace=True)"
      ],
      "execution_count": 0,
      "outputs": []
    },
    {
      "cell_type": "markdown",
      "metadata": {
        "id": "5ZQHsEC0-QwN",
        "colab_type": "text"
      },
      "source": [
        "## Replacing values in string columns\n",
        "\n",
        "### Replace RB and QB with Running Back and Quarterback\n",
        "\n",
        "- https://pandas.pydata.org/pandas-docs/stable/generated/pandas.DataFrame.replace.html\n",
        "\n",
        "This method will change **all values** in the dataframe using a set of rules of the form:\n",
        "- Replace to_replace[0] with value[0]\n",
        "- Replace to_replace[1] with value[1]\n",
        "- ...\n",
        "\n",
        "`inplace=True` holds the same implications as in `sort_values`. "
      ]
    },
    {
      "cell_type": "code",
      "metadata": {
        "id": "_I4wROym-QwN",
        "colab_type": "code",
        "colab": {}
      },
      "source": [
        "data.position.replace(to_replace=['RB','QB'],\n",
        "                      value=['Running Back','Quarterback'], \n",
        "                      inplace=True)\n",
        "data.head()"
      ],
      "execution_count": 0,
      "outputs": []
    },
    {
      "cell_type": "markdown",
      "metadata": {
        "id": "4IPRftBe-QwR",
        "colab_type": "text"
      },
      "source": [
        "## Using dummy variables\n",
        "\n",
        "- https://pandas.pydata.org/pandas-docs/stable/generated/pandas.get_dummies.html\n",
        "\n",
        "Dummy variables are useful to convert a single multi-value column to multiple binary valued columns.\n",
        "\n",
        "In normal person speak that would mean assume you had the following data (genders):\n",
        "- M\n",
        "- F\n",
        "- M\n",
        "- M\n",
        "- U\n",
        "- F\n",
        "\n",
        "There are three unique values. Binarizing with prefix='Gender' will make 3 new columns:\n",
        "- Gender_M\n",
        "- Gender_F\n",
        "- Gender_U\n",
        "\n",
        "Each row in the data can have only a single value of 1 in these 3 columns with others being 0s.\n",
        "\n",
        "Our data from above would look like the following table when binarized:\n",
        "\n",
        "|Original value|Gender_M|Gender_F|Gender_U|\n",
        "|-|--------|--------|--------|\n",
        "|M|1|0|0|\n",
        "|F|0|1|0|\n",
        "|M|1|0|0|\n",
        "|M|1|0|0|\n",
        "|U|0|0|1|\n",
        "|F|0|1|0|\n",
        "\n",
        "### Create dummy values for position\n",
        "\n",
        "Observe in this example as we make dummy variables for `position` with prefix='Pos'"
      ]
    },
    {
      "cell_type": "code",
      "metadata": {
        "id": "jZ5Cek3W-QwT",
        "colab_type": "code",
        "colab": {}
      },
      "source": [
        "dummy_data = pd.get_dummies(data.position, prefix='Pos')\n",
        "dummy_data.head()"
      ],
      "execution_count": 0,
      "outputs": []
    },
    {
      "cell_type": "markdown",
      "metadata": {
        "id": "Y8O2MEecCXDY",
        "colab_type": "text"
      },
      "source": [
        "#### Example use case for dummies\n",
        "\n",
        "Calculate the total number of players per position.\n",
        "\n",
        "If you put `prefix=None` the values from positions columns are now column names with no prefix."
      ]
    },
    {
      "cell_type": "code",
      "metadata": {
        "id": "zjNgUCU3CXDa",
        "colab_type": "code",
        "colab": {}
      },
      "source": [
        "pd.get_dummies(data.position, prefix=None).sum()"
      ],
      "execution_count": 0,
      "outputs": []
    },
    {
      "cell_type": "markdown",
      "metadata": {
        "id": "4fotcJNe-QwW",
        "colab_type": "text"
      },
      "source": [
        "### Merge the dummy data with the original data set\n",
        "\n",
        "- https://pandas.pydata.org/pandas-docs/stable/generated/pandas.DataFrame.merge.html\n",
        "\n",
        "Merge is pandas speak for sql join.\n",
        "\n",
        "The main parameters for merge are:\n",
        "- dataframe_left which is `data` in our case\n",
        "- dataframe_right which is `data` in our case\n",
        "- how which describes the type of SQL JOIN to perform. Some possible values are \"left\", \"right\", \"outer\", \"inner\"\n",
        "\n",
        "With that in place only thing left to decide is what to JOIN on.\n",
        "- We must choose the join keys for both dataframes.\n",
        "- One choice is to use the index as we do here (for both dataframes actually(\n",
        "- Another choice is to use columns which is controlled via the parameters left_on and right_on.\n",
        "- You must not set both left_on and left_index. Same for right.\n",
        "\n",
        "In a simplified case when you have columns with same name in both dataframes you can use only the `on` parameter."
      ]
    },
    {
      "cell_type": "code",
      "metadata": {
        "id": "YAntGYzO-QwW",
        "colab_type": "code",
        "colab": {}
      },
      "source": [
        "data.merge(dummy_data, how='inner', left_index=True, right_index=True) "
      ],
      "execution_count": 0,
      "outputs": []
    },
    {
      "cell_type": "markdown",
      "metadata": {
        "id": "26LduKo7-QwY",
        "colab_type": "text"
      },
      "source": [
        "## Converting values\n",
        "\n",
        "### Convert weight from lbs to kg\n",
        "\n",
        "Remmeber: pandas columns are series but they can do all arithmetic stuff that numpy arrays can do."
      ]
    },
    {
      "cell_type": "code",
      "metadata": {
        "id": "zMih86cs-QwZ",
        "colab_type": "code",
        "colab": {}
      },
      "source": [
        "data['weight_kg'] = data.weight/2.2\n",
        "data.head()"
      ],
      "execution_count": 0,
      "outputs": []
    },
    {
      "cell_type": "markdown",
      "metadata": {
        "id": "BfglFn-s-Qwb",
        "colab_type": "text"
      },
      "source": [
        "### Capitalize name\n",
        "\n",
        "- https://pandas.pydata.org/pandas-docs/stable/generated/pandas.DataFrame.apply.html\n",
        "\n",
        "Apply is a very versatile function which allows arbitrary data transformations.\n",
        "\n",
        "The main parameters of apply are the function and the axis.\n",
        "\n",
        "When dealing with columns as in this example, there is no axis, but when using apply on the whole dataframe we must use either axis=1 which means apply over rows or axis=0 which means apply over columns.\n",
        "\n",
        "In this example we apply `str.upper` over the values in the name column."
      ]
    },
    {
      "cell_type": "code",
      "metadata": {
        "id": "I4W73kfN-Qwb",
        "colab_type": "code",
        "colab": {}
      },
      "source": [
        "# need the apply function if you're doing an operation on a column. Python doens't know to apply it to the entire dataset.\n",
        "\n",
        "data.name.apply(str.upper).head()"
      ],
      "execution_count": 0,
      "outputs": []
    },
    {
      "cell_type": "markdown",
      "metadata": {
        "id": "aLKGLQm4-Qwe",
        "colab_type": "text"
      },
      "source": [
        "### Lambda Functions\n",
        "\n",
        "Lambda functions are short, compact functions in python. They can have any number of arguments but only one expression. The expression is evaluated and returned. Lambda functions can be used wherever function objects are required.\n",
        "\n",
        "Example:\n",
        "```\n",
        "double = lambda x: x * 2\n",
        "\n",
        "print(double(5))\n",
        "```\n",
        "\n",
        "\n",
        "\n",
        "Output would be `10`\n",
        "\n",
        "This lambda function will double any value in `x`. "
      ]
    },
    {
      "cell_type": "markdown",
      "metadata": {
        "id": "z-X2esIKfgit",
        "colab_type": "text"
      },
      "source": [
        "#### Reverse order of first and last name\n",
        "\n",
        "`lambda x:'{0}, {1}'.format(x['lastname'], x['firstname'])` \n",
        "- x is now a row (**axis=1**) which is of type Series. we can access firstname as x['firstname'] or x.firstname as in any other series.\n",
        "- The format method in python replaces {i} with i-th argument. So {0} gets replaced with first argument which is x['lastname'] and {1} will get replaced with x['firstname']\n",
        "- Thus this function takes a row as input and outputs a string which contains the last name followed by the first name\n",
        "\n",
        "We apply this function over all rows (**axis=1**) and obtain a series as a result.\n",
        "\n",
        "We store that series in our dataframe with the assignment."
      ]
    },
    {
      "cell_type": "code",
      "metadata": {
        "id": "WahtXitG-Qwf",
        "colab_type": "code",
        "colab": {}
      },
      "source": [
        "data['last_firstname'] = data.apply(lambda x:'{0}, {1}'.format(x['lastname'], x['firstname']), axis=1)\n",
        "data.head()"
      ],
      "execution_count": 0,
      "outputs": []
    }
  ]
}